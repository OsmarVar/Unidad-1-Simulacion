{
  "nbformat": 4,
  "nbformat_minor": 0,
  "metadata": {
    "colab": {
      "provenance": [],
      "authorship_tag": "ABX9TyO8WtUyEL7dJ4tCOWDbesKM",
      "include_colab_link": true
    },
    "kernelspec": {
      "name": "python3",
      "display_name": "Python 3"
    },
    "language_info": {
      "name": "python"
    }
  },
  "cells": [
    {
      "cell_type": "markdown",
      "metadata": {
        "id": "view-in-github",
        "colab_type": "text"
      },
      "source": [
        "<a href=\"https://colab.research.google.com/github/OsmarVar/Unidad-1-Simulacion/blob/main/PruebaCorridas.ipynb\" target=\"_parent\"><img src=\"https://colab.research.google.com/assets/colab-badge.svg\" alt=\"Open In Colab\"/></a>"
      ]
    },
    {
      "cell_type": "code",
      "execution_count": null,
      "metadata": {
        "id": "SEfAxYxZX8iR"
      },
      "outputs": [],
      "source": [
        "def corridas_test(data):\n",
        "    n = len(data)\n",
        "    runs = [data[i] > data[i-1] for i in range(1, n)]  # Calcula las corridas\n",
        "    num_runs = sum(1 for _ in runs if _) + 1  # Número de corridas\n",
        "    mean_runs = (2 * n - 1) / 3  # Media de corridas\n",
        "    std_dev_runs = ((16 * n - 29) / 90) ** 0.5  # Desviación estándar de corridas\n",
        "    z_score = (num_runs - mean_runs) / std_dev_runs  # Z-score\n",
        "\n",
        "    # Calcula el p-value\n",
        "    if z_score >= 0:\n",
        "        p_value = 2 * (1 - norm.cdf(z_score))  # Dos colas\n",
        "    else:\n",
        "        p_value = 2 * norm.cdf(z_score)  # Dos colas\n",
        "\n",
        "    # Devuelve True si los datos pasan la prueba (es decir, p-value es mayor que un nivel de significancia)\n",
        "    if p_value > 0.05:\n",
        "        return True, num_runs, p_value\n",
        "    else:\n",
        "        return False, num_runs, p_value\n",
        "\n",
        "import numpy as np\n",
        "from scipy.stats import norm\n",
        "\n",
        "# Genera una secuencia de 100 números aleatorios entre 0 y 1\n",
        "random_numbers = np.random.uniform(0, 1, 100)\n",
        "\n",
        "# Realiza la prueba de corridas\n",
        "is_random, num_runs, p_value = corridas_test(random_numbers)\n",
        "\n",
        "if is_random:\n",
        "    print(\"La secuencia de números aleatorios sigue un patrón aleatorio.\")\n",
        "else:\n",
        "    print(\"La secuencia de números aleatorios no sigue un patrón aleatorio.\")\n",
        "\n",
        "print(\"Número de corridas:\", num_runs)\n",
        "print(\"Valor p:\", p_value)\n"
      ]
    }
  ]
}