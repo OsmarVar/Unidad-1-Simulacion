{
  "nbformat": 4,
  "nbformat_minor": 0,
  "metadata": {
    "colab": {
      "provenance": [],
      "authorship_tag": "ABX9TyO2QQW0bHwKy9694tXOYw6K",
      "include_colab_link": true
    },
    "kernelspec": {
      "name": "python3",
      "display_name": "Python 3"
    },
    "language_info": {
      "name": "python"
    }
  },
  "cells": [
    {
      "cell_type": "markdown",
      "metadata": {
        "id": "view-in-github",
        "colab_type": "text"
      },
      "source": [
        "<a href=\"https://colab.research.google.com/github/OsmarVar/Unidad-1-Simulacion/blob/main/Chi_Cuadrada.ipynb\" target=\"_parent\"><img src=\"https://colab.research.google.com/assets/colab-badge.svg\" alt=\"Open In Colab\"/></a>"
      ]
    },
    {
      "cell_type": "code",
      "execution_count": 1,
      "metadata": {
        "colab": {
          "base_uri": "https://localhost:8080/"
        },
        "id": "JSvqhg_ZKDwJ",
        "outputId": "a8fc2956-649c-4a72-ef9b-6d569b43dedd"
      },
      "outputs": [
        {
          "output_type": "stream",
          "name": "stdout",
          "text": [
            "La secuencia de números aleatorios sigue una distribución uniforme.\n",
            "Estadístico de Chi-Cuadrada: 3.56\n",
            "Valor crítico: 16.918977604620448\n"
          ]
        }
      ],
      "source": [
        "import numpy as np\n",
        "from scipy.stats import chi2\n",
        "\n",
        "def chi_square_test(data, num_intervals):\n",
        "    observed_frequencies, _ = np.histogram(data, bins=num_intervals)\n",
        "    expected_frequency = len(data) / num_intervals\n",
        "    chi_square_statistic = np.sum((observed_frequencies - expected_frequency)**2 / expected_frequency)\n",
        "    degrees_of_freedom = num_intervals - 1\n",
        "    critical_value = chi2.ppf(0.95, degrees_of_freedom)  # Nivel de confianza del 95%\n",
        "\n",
        "    if chi_square_statistic <= critical_value:\n",
        "        return True, chi_square_statistic, critical_value\n",
        "    else:\n",
        "        return False, chi_square_statistic, critical_value\n",
        "\n",
        "# Generamos una secuencia de 1000 números aleatorios entre 0 y 1\n",
        "random_numbers = np.random.uniform(0, 1, 1000)\n",
        "\n",
        "# Realizamos la prueba de Chi-Cuadrada con 10 intervalos\n",
        "is_uniform, chi_square_stat, crit_val = chi_square_test(random_numbers, 10)\n",
        "\n",
        "if is_uniform:\n",
        "    print(\"La secuencia de números aleatorios sigue una distribución uniforme.\")\n",
        "else:\n",
        "    print(\"La secuencia de números aleatorios no sigue una distribución uniforme.\")\n",
        "\n",
        "print(\"Estadístico de Chi-Cuadrada:\", chi_square_stat)\n",
        "print(\"Valor crítico:\", crit_val)\n"
      ]
    }
  ]
}