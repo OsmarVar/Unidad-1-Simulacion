{
  "nbformat": 4,
  "nbformat_minor": 0,
  "metadata": {
    "colab": {
      "provenance": [],
      "toc_visible": true,
      "authorship_tag": "ABX9TyOYZ2x0zJVa86H07fVO/7ZR",
      "include_colab_link": true
    },
    "kernelspec": {
      "name": "python3",
      "display_name": "Python 3"
    },
    "language_info": {
      "name": "python"
    }
  },
  "cells": [
    {
      "cell_type": "markdown",
      "metadata": {
        "id": "view-in-github",
        "colab_type": "text"
      },
      "source": [
        "<a href=\"https://colab.research.google.com/github/OsmarVar/Unidad-1-Simulacion/blob/main/GeneradordeCuadradoMedio.ipynb\" target=\"_parent\"><img src=\"https://colab.research.google.com/assets/colab-badge.svg\" alt=\"Open In Colab\"/></a>"
      ]
    },
    {
      "cell_type": "markdown",
      "source": [
        "#Metodo del Cuadrado Medio"
      ],
      "metadata": {
        "id": "CWbyFD9oJ07w"
      }
    },
    {
      "cell_type": "code",
      "source": [
        "def cuadrado_medio(semilla, iteraciones):\n",
        "    print(\"| Iteración | Semilla |   Cuadrado   | Número Aleatorio |\")\n",
        "    print(\"|-----------|---------|--------------|------------------|\")\n",
        "\n",
        "    resultados = []\n",
        "    for i in range(iteraciones):\n",
        "        semilla = semilla ** 2\n",
        "        semilla_str = str(semilla).zfill(8)  # Aseguramos que tenga al menos 8 dígitos\n",
        "        centro = semilla_str[2:6]  # Tomamos los 4 dígitos del medio\n",
        "        semilla = int(centro)\n",
        "        resultado = semilla / 10000  # Normalizamos dividiendo por 10000\n",
        "        resultados.append(resultado)\n",
        "\n",
        "        print(f\"|    {i+1:2}     |  {semilla:4}   |  {semilla**2:10}  |    {resultado:.8f}    |\")\n",
        "    return resultados\n",
        "\n",
        "\n",
        "semilla = 2124\n",
        "iteraciones = 5\n",
        "resultados = cuadrado_medio(semilla, iteraciones)\n"
      ],
      "metadata": {
        "colab": {
          "base_uri": "https://localhost:8080/"
        },
        "id": "rYqLVmQVAyx2",
        "outputId": "d93288bd-a740-4aa3-a0e9-22133b8c7655"
      },
      "execution_count": null,
      "outputs": [
        {
          "output_type": "stream",
          "name": "stdout",
          "text": [
            "| Iteración | Semilla |   Cuadrado   | Número Aleatorio |\n",
            "|-----------|---------|--------------|------------------|\n",
            "|     1     |  5113   |    26142769  |    0.51130000    |\n",
            "|     2     |  1427   |     2036329  |    0.14270000    |\n",
            "|     3     |   363   |      131769  |    0.03630000    |\n",
            "|     4     |  1317   |     1734489  |    0.13170000    |\n",
            "|     5     |  7344   |    53934336  |    0.73440000    |\n"
          ]
        }
      ]
    }
  ]
}