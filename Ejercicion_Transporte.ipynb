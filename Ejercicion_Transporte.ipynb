{
  "nbformat": 4,
  "nbformat_minor": 0,
  "metadata": {
    "colab": {
      "provenance": [],
      "authorship_tag": "ABX9TyOufkdscK7GxoWaBddd3xnd",
      "include_colab_link": true
    },
    "kernelspec": {
      "name": "python3",
      "display_name": "Python 3"
    },
    "language_info": {
      "name": "python"
    }
  },
  "cells": [
    {
      "cell_type": "markdown",
      "metadata": {
        "id": "view-in-github",
        "colab_type": "text"
      },
      "source": [
        "<a href=\"https://colab.research.google.com/github/OsmarVar/Unidad-1-Simulacion/blob/main/Ejercicion_Transporte.ipynb\" target=\"_parent\"><img src=\"https://colab.research.google.com/assets/colab-badge.svg\" alt=\"Open In Colab\"/></a>"
      ]
    },
    {
      "cell_type": "code",
      "execution_count": 1,
      "metadata": {
        "id": "fnau3YXNrT-M"
      },
      "outputs": [],
      "source": [
        "import numpy as np\n",
        "import scipy.stats as stats"
      ]
    },
    {
      "cell_type": "code",
      "source": [
        "mu = 180"
      ],
      "metadata": {
        "id": "u0OAZR8YrijY"
      },
      "execution_count": 4,
      "outputs": []
    },
    {
      "cell_type": "code",
      "source": [
        "sigma = 30"
      ],
      "metadata": {
        "id": "6VjTu8Kxrxv3"
      },
      "execution_count": 5,
      "outputs": []
    },
    {
      "cell_type": "code",
      "source": [
        "n = 5"
      ],
      "metadata": {
        "id": "VhyAkeNTrzp_"
      },
      "execution_count": 6,
      "outputs": []
    },
    {
      "cell_type": "code",
      "source": [
        "capacidad_camion = 1000"
      ],
      "metadata": {
        "id": "yoCwgJvYsurd"
      },
      "execution_count": 3,
      "outputs": []
    },
    {
      "cell_type": "code",
      "source": [
        "mu_total = n * mu"
      ],
      "metadata": {
        "id": "7HEsp5lEs0Vl"
      },
      "execution_count": 7,
      "outputs": []
    },
    {
      "cell_type": "code",
      "source": [
        "sigma_total = np.sqrt(n) * sigma"
      ],
      "metadata": {
        "id": "Qr-r4ywds9Kl"
      },
      "execution_count": 9,
      "outputs": []
    },
    {
      "cell_type": "code",
      "source": [
        "z_score = (capacidad_camion - mu_total) / sigma_total"
      ],
      "metadata": {
        "id": "YYfuVtYHtCvV"
      },
      "execution_count": 10,
      "outputs": []
    },
    {
      "cell_type": "code",
      "source": [
        "probabilidad_exceder = 1 - stats.norm.cdf(z_score)"
      ],
      "metadata": {
        "id": "3Kz6FfgGwZdP"
      },
      "execution_count": 11,
      "outputs": []
    },
    {
      "cell_type": "code",
      "source": [
        "print(f\"probabilidad analitica de exceder la capacidad: {probabilidad_exceder: .4f}\")"
      ],
      "metadata": {
        "colab": {
          "base_uri": "https://localhost:8080/"
        },
        "id": "mJIwcljtwiOe",
        "outputId": "374a31d5-8f6c-4fb0-af9e-a5c801d30470"
      },
      "execution_count": 12,
      "outputs": [
        {
          "output_type": "stream",
          "name": "stdout",
          "text": [
            "probabilidad analitica de exceder la capacidad:  0.0680\n"
          ]
        }
      ]
    },
    {
      "cell_type": "code",
      "source": [
        "simulaciones =  10000"
      ],
      "metadata": {
        "id": "Zsv6dbJdwvs8"
      },
      "execution_count": 13,
      "outputs": []
    },
    {
      "cell_type": "code",
      "source": [
        "pesos = np.random.normal(mu , sigma , (simulaciones , n))"
      ],
      "metadata": {
        "id": "sQ9I6GSpxU1U"
      },
      "execution_count": 14,
      "outputs": []
    },
    {
      "cell_type": "code",
      "source": [
        "pesos_totales = np.sum(pesos , axis=1)"
      ],
      "metadata": {
        "id": "0Kdedxt9xbmc"
      },
      "execution_count": 15,
      "outputs": []
    },
    {
      "cell_type": "code",
      "source": [
        "exceder_simulacion = np.sum(pesos_totales > capacidad_camion) / simulaciones"
      ],
      "metadata": {
        "id": "JZqIrtDoxiUk"
      },
      "execution_count": 16,
      "outputs": []
    },
    {
      "cell_type": "code",
      "source": [
        "print(f\"probabilidad por simulacion de exceder la capacidad: {exceder_simulacion:.4f}\")"
      ],
      "metadata": {
        "colab": {
          "base_uri": "https://localhost:8080/"
        },
        "id": "_2e8OiHBxtKL",
        "outputId": "17d50bdc-0ddb-4b6a-fe73-117806a09675"
      },
      "execution_count": 19,
      "outputs": [
        {
          "output_type": "stream",
          "name": "stdout",
          "text": [
            "probabilidad por simulacion de exceder la capacidad: 0.0710\n"
          ]
        }
      ]
    },
    {
      "cell_type": "code",
      "source": [
        "costo_extra_tina = 200"
      ],
      "metadata": {
        "id": "Axrf5xR0ypDt"
      },
      "execution_count": 20,
      "outputs": []
    },
    {
      "cell_type": "code",
      "source": [
        "dias_trabajando_anual = 260"
      ],
      "metadata": {
        "id": "m0vOBBZIysJV"
      },
      "execution_count": 21,
      "outputs": []
    },
    {
      "cell_type": "code",
      "source": [
        "costo_anual_camion = 60000"
      ],
      "metadata": {
        "id": "lszClwf9ywDR"
      },
      "execution_count": 22,
      "outputs": []
    },
    {
      "cell_type": "code",
      "source": [
        "costo_anual_extra = costo_extra_tina * dias_trabajando_anual * probabilidad_exceder"
      ],
      "metadata": {
        "id": "all38Fniyz_B"
      },
      "execution_count": 23,
      "outputs": []
    },
    {
      "cell_type": "code",
      "source": [
        "print(f\"Costo anual esperado de enviar tinas extra : ${costo_anual_extra:.2f}\")"
      ],
      "metadata": {
        "colab": {
          "base_uri": "https://localhost:8080/"
        },
        "id": "7QJnQzYhy-lT",
        "outputId": "b4a61b73-ff72-4da1-add2-3a2dbef1569f"
      },
      "execution_count": 24,
      "outputs": [
        {
          "output_type": "stream",
          "name": "stdout",
          "text": [
            "Costo anual esperado de enviar tinas extra : $3536.97\n"
          ]
        }
      ]
    },
    {
      "cell_type": "code",
      "source": [
        "costo_anual_extra_sim = costo_extra_tina * dias_trabajando_anual * exceder_simulacion"
      ],
      "metadata": {
        "id": "Dvdo4EIrzL7R"
      },
      "execution_count": 25,
      "outputs": []
    },
    {
      "cell_type": "code",
      "source": [
        "print(f\"Costo anual esperado por simulacion de enviar tinas extra:${costo_anual_extra_sim:.2f}\")"
      ],
      "metadata": {
        "colab": {
          "base_uri": "https://localhost:8080/"
        },
        "id": "7oBzcHpR0P0K",
        "outputId": "f0866889-88fe-4010-f492-7ca264b44d31"
      },
      "execution_count": 26,
      "outputs": [
        {
          "output_type": "stream",
          "name": "stdout",
          "text": [
            "Costo anual esperado por simulacion de enviar tinas extra:$3692.00\n"
          ]
        }
      ]
    },
    {
      "cell_type": "code",
      "source": [
        "if costo_anual_extra < costo_anual_camion:\n",
        "  print(\"Es mas conveniente mantener el camion actual\")\n",
        "else:\n",
        "  print(\"Es mas conveniente comprar un nuevo camion\")"
      ],
      "metadata": {
        "colab": {
          "base_uri": "https://localhost:8080/"
        },
        "id": "7j0efbX70h65",
        "outputId": "a0da22db-795b-4a8d-ba37-76e04a79a642"
      },
      "execution_count": 28,
      "outputs": [
        {
          "output_type": "stream",
          "name": "stdout",
          "text": [
            "Es mas conveniente mantener el camion actual\n"
          ]
        }
      ]
    }
  ]
}