{
  "nbformat": 4,
  "nbformat_minor": 0,
  "metadata": {
    "colab": {
      "provenance": [],
      "authorship_tag": "ABX9TyPFt7vk6l0wuT1/3RHxzJK3",
      "include_colab_link": true
    },
    "kernelspec": {
      "name": "python3",
      "display_name": "Python 3"
    },
    "language_info": {
      "name": "python"
    }
  },
  "cells": [
    {
      "cell_type": "markdown",
      "metadata": {
        "id": "view-in-github",
        "colab_type": "text"
      },
      "source": [
        "<a href=\"https://colab.research.google.com/github/OsmarVar/Unidad-1-Simulacion/blob/main/metododecongruencia.ipynb\" target=\"_parent\"><img src=\"https://colab.research.google.com/assets/colab-badge.svg\" alt=\"Open In Colab\"/></a>"
      ]
    },
    {
      "cell_type": "markdown",
      "source": [
        "\n",
        "\n",
        "Método de Congruencia\n"
      ],
      "metadata": {
        "id": "O0vbd60m6SwR"
      }
    },
    {
      "cell_type": "code",
      "source": [
        "import pandas as pd\n",
        "\n",
        "def congruencia_lineal(a, c, m, seed, n):\n",
        "    resultados = []\n",
        "    xi = seed\n",
        "    for _ in range(n):\n",
        "        xi = (a * xi + c) % m\n",
        "        resultados.append(xi)\n",
        "    return resultados\n",
        "\n",
        "def main():\n",
        "    # Parámetros del método de congruencia lineal\n",
        "    a = 21*43\n",
        "    c = 15*43\n",
        "    m = 64\n",
        "    seed = 21\n",
        "    n = 17\n",
        "\n",
        "    # Generar secuencia de números pseudoaleatorios\n",
        "    numeros_aleatorios = congruencia_lineal(a, c, m, seed, n)\n",
        "\n",
        "    # Crear tabla con los resultados\n",
        "    tabla_resultados = pd.DataFrame({\n",
        "        'Iteración': range(1, n + 1),\n",
        "        'Número Pseudoaleatorio': numeros_aleatorios\n",
        "    })\n",
        "\n",
        "    # Imprimir la tabla\n",
        "    print(tabla_resultados)\n",
        "\n",
        "if __name__ == \"__main__\":\n",
        "    main()"
      ],
      "metadata": {
        "colab": {
          "base_uri": "https://localhost:8080/"
        },
        "id": "al3SlDhA9_JU",
        "outputId": "5cc9157d-940d-42f2-bdcf-31b1cecfa110"
      },
      "execution_count": null,
      "outputs": [
        {
          "output_type": "stream",
          "name": "stdout",
          "text": [
            "    Iteración  Número Pseudoaleatorio\n",
            "0           1                      24\n",
            "1           2                      45\n",
            "2           3                       0\n",
            "3           4                       5\n",
            "4           5                      40\n",
            "5           6                      29\n",
            "6           7                      16\n",
            "7           8                      53\n",
            "8           9                      56\n",
            "9          10                      13\n",
            "10         11                      32\n",
            "11         12                      37\n",
            "12         13                       8\n",
            "13         14                      61\n",
            "14         15                      48\n",
            "15         16                      21\n",
            "16         17                      24\n"
          ]
        }
      ]
    }
  ]
}