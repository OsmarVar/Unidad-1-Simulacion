{
  "nbformat": 4,
  "nbformat_minor": 0,
  "metadata": {
    "colab": {
      "provenance": [],
      "authorship_tag": "ABX9TyNGhapNr73NskgCNftaLLuh",
      "include_colab_link": true
    },
    "kernelspec": {
      "name": "python3",
      "display_name": "Python 3"
    },
    "language_info": {
      "name": "python"
    }
  },
  "cells": [
    {
      "cell_type": "markdown",
      "metadata": {
        "id": "view-in-github",
        "colab_type": "text"
      },
      "source": [
        "<a href=\"https://colab.research.google.com/github/OsmarVar/Unidad-1-Simulacion/blob/main/Prueba_K_S.ipynb\" target=\"_parent\"><img src=\"https://colab.research.google.com/assets/colab-badge.svg\" alt=\"Open In Colab\"/></a>"
      ]
    },
    {
      "cell_type": "code",
      "execution_count": 1,
      "metadata": {
        "colab": {
          "base_uri": "https://localhost:8080/"
        },
        "id": "-ezvWEmMVmwZ",
        "outputId": "880d9bf1-d2db-4ad0-c3e2-ab890106d74f"
      },
      "outputs": [
        {
          "output_type": "stream",
          "name": "stdout",
          "text": [
            "La secuencia de números aleatorios sigue una distribución uniforme.\n",
            "Estadístico de Kolmogorov-Smirnov: 0.020845854079790227\n",
            "Valor p: 0.7694073196372042\n"
          ]
        }
      ],
      "source": [
        "import numpy as np\n",
        "from scipy.stats import kstest\n",
        "\n",
        "def kolmogorov_smirnov_test(data, cdf):\n",
        "    # Realiza la prueba de Kolmogorov-Smirnov\n",
        "    ks_statistic, p_value = kstest(data, cdf)\n",
        "\n",
        "    # Devuelve True si los datos pasan la prueba (es decir, p-value es mayor que un nivel de significancia)\n",
        "    if p_value > 0.05:\n",
        "        return True, ks_statistic, p_value\n",
        "    else:\n",
        "        return False, ks_statistic, p_value\n",
        "\n",
        "# Genera una secuencia de 1000 números aleatorios entre 0 y 1\n",
        "random_numbers = np.random.uniform(0, 1, 1000)\n",
        "\n",
        "# Función de distribución acumulada (CDF) de la distribución uniforme\n",
        "def uniform_cdf(x):\n",
        "    return x\n",
        "\n",
        "# Realiza la prueba de Kolmogorov-Smirnov\n",
        "is_uniform, ks_stat, p_val = kolmogorov_smirnov_test(random_numbers, uniform_cdf)\n",
        "\n",
        "if is_uniform:\n",
        "    print(\"La secuencia de números aleatorios sigue una distribución uniforme.\")\n",
        "else:\n",
        "    print(\"La secuencia de números aleatorios no sigue una distribución uniforme.\")\n",
        "\n",
        "print(\"Estadístico de Kolmogorov-Smirnov:\", ks_stat)\n",
        "print(\"Valor p:\", p_val)\n"
      ]
    }
  ]
}