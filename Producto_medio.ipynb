{
  "nbformat": 4,
  "nbformat_minor": 0,
  "metadata": {
    "colab": {
      "provenance": [],
      "authorship_tag": "ABX9TyMo3U/za/Ct3HC81lV68eQ+",
      "include_colab_link": true
    },
    "kernelspec": {
      "name": "python3",
      "display_name": "Python 3"
    },
    "language_info": {
      "name": "python"
    }
  },
  "cells": [
    {
      "cell_type": "markdown",
      "metadata": {
        "id": "view-in-github",
        "colab_type": "text"
      },
      "source": [
        "<a href=\"https://colab.research.google.com/github/OsmarVar/Unidad-1-Simulacion/blob/main/Producto_medio.ipynb\" target=\"_parent\"><img src=\"https://colab.research.google.com/assets/colab-badge.svg\" alt=\"Open In Colab\"/></a>"
      ]
    },
    {
      "cell_type": "code",
      "execution_count": null,
      "metadata": {
        "colab": {
          "base_uri": "https://localhost:8080/"
        },
        "id": "Up6P2XT_Ha2D",
        "outputId": "da25fe69-6f45-4894-a47c-cb4167f6b05b"
      },
      "outputs": [
        {
          "output_type": "stream",
          "name": "stdout",
          "text": [
            "Resultados: [0.1522, 0.2316, 0.5363, 0.7617, 0.0186, 0.0345, 0.1902, 0.3617, 0.0826, 0.8227]\n"
          ]
        }
      ],
      "source": [
        "def producto_medio(semilla, iteraciones, digitos):\n",
        "    resultados = []\n",
        "    x0 = semilla\n",
        "\n",
        "    for _ in range(iteraciones):\n",
        "        x0 = x0 ** 2\n",
        "        x0_str = str(x0)\n",
        "        longitud = len(x0_str)\n",
        "\n",
        "        if longitud % 2 != 0:\n",
        "            x0_str = '0' + x0_str\n",
        "\n",
        "        mitad = longitud // 2\n",
        "        x0_recortado = x0_str[mitad - digitos // 2: mitad + digitos // 2]\n",
        "        x0 = int(x0_recortado)\n",
        "        resultados.append(x0 / (10 ** digitos))\n",
        "\n",
        "    return resultados\n",
        "\n",
        "semilla = 1234  # Semilla inicial\n",
        "iteraciones = 10  # Número de iteraciones\n",
        "digitos = 4  # Número de dígitos a considerar en cada iteración\n",
        "\n",
        "resultados = producto_medio(semilla, iteraciones, digitos)\n",
        "print(\"Resultados:\", resultados)\n"
      ]
    }
  ]
}