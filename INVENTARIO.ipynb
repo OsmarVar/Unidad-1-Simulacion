{
  "nbformat": 4,
  "nbformat_minor": 0,
  "metadata": {
    "colab": {
      "provenance": [],
      "authorship_tag": "ABX9TyPE12syjiK4E7ADZb0AQSsL",
      "include_colab_link": true
    },
    "kernelspec": {
      "name": "python3",
      "display_name": "Python 3"
    },
    "language_info": {
      "name": "python"
    }
  },
  "cells": [
    {
      "cell_type": "markdown",
      "metadata": {
        "id": "view-in-github",
        "colab_type": "text"
      },
      "source": [
        "<a href=\"https://colab.research.google.com/github/OsmarVar/Unidad-1-Simulacion/blob/main/INVENTARIO.ipynb\" target=\"_parent\"><img src=\"https://colab.research.google.com/assets/colab-badge.svg\" alt=\"Open In Colab\"/></a>"
      ]
    },
    {
      "cell_type": "code",
      "execution_count": null,
      "metadata": {
        "colab": {
          "base_uri": "https://localhost:8080/"
        },
        "id": "X6M-eRl5rm_f",
        "outputId": "2fb12d22-0d74-45be-9994-bb7d0b5d3f04"
      },
      "outputs": [
        {
          "output_type": "execute_result",
          "data": {
            "text/plain": [
              "[(0.7772020798198982, 3),\n",
              " (0.8848641050274303, 3),\n",
              " (0.09227322554850237, 'x=35'),\n",
              " (0.7843407937734278, 3),\n",
              " (0.05038436595696394, 'x=35'),\n",
              " (0.6601067947501587, 2),\n",
              " (0.4581948235150717, 2),\n",
              " (0.757452730225086, 3),\n",
              " (0.7413175542722856, 3),\n",
              " (0.8973002638606179, 3)]"
            ]
          },
          "metadata": {},
          "execution_count": 7
        }
      ],
      "source": [
        "import random\n",
        "\n",
        "def tiempo_de_entrega(R):\n",
        "    if 0.00 <= R < 0.10:\n",
        "        return  'x=35'  # 1 mes\n",
        "    elif 0.30 <= R < 0.70:\n",
        "        return 2  # 2 meses\n",
        "    elif 0.70 <= R < 1.00:\n",
        "        return 3  # 3 meses\n",
        "\n",
        "# Generamos 10 valores aleatorios y calculamos sus tiempos de entrega\n",
        "resultados = []\n",
        "for _ in range(10):\n",
        "    R = random.random()\n",
        "    g = tiempo_de_entrega(R)\n",
        "    resultados.append((R, g))\n",
        "\n",
        "resultados"
      ]
    },
    {
      "cell_type": "code",
      "source": [
        "import random\n",
        "import matplotlib.pyplot as plt\n",
        "import numpy as np\n",
        "\n",
        "# Definimos la función que asigna valores de demanda x según R\n",
        "def demanda(R):\n",
        "    if 0.000 <= R < 0.010:\n",
        "        return 35\n",
        "    elif 0.010 <= R < 0.025:\n",
        "        return 36\n",
        "    elif 0.025 <= R < 0.045:\n",
        "        return 37\n",
        "    elif 0.045 <= R < 0.065:\n",
        "        return 38\n",
        "    elif 0.065 <= R < 0.087:\n",
        "        return 39\n",
        "    elif 0.087 <= R < 0.110:\n",
        "        return 40\n",
        "    elif 0.110 <= R < 0.135:\n",
        "        return 41\n",
        "    elif 0.135 <= R < 0.162:\n",
        "        return 42\n",
        "    elif 0.162 <= R < 0.190:\n",
        "        return 43\n",
        "    elif 0.190 <= R < 0.219:\n",
        "        return 44\n",
        "    elif 0.219 <= R < 0.254:\n",
        "        return 45\n",
        "    elif 0.254 <= R < 0.299:\n",
        "        return 46\n",
        "    elif 0.299 <= R < 0.359:\n",
        "        return 47\n",
        "    elif 0.359 <= R < 0.424:\n",
        "        return 48\n",
        "    elif 0.424 <= R < 0.494:\n",
        "        return 49\n",
        "    elif 0.494 <= R < 0.574:\n",
        "        return 50\n",
        "    elif 0.574 <= R < 0.649:\n",
        "        return 51\n",
        "    elif 0.649 <= R < 0.719:\n",
        "        return 52\n",
        "    elif 0.719 <= R < 0.784:\n",
        "        return 53\n",
        "    elif 0.784 <= R < 0.844:\n",
        "        return 54\n",
        "    elif 0.844 <= R < 0.894:\n",
        "        return 55\n",
        "    elif 0.894 <= R < 0.934:\n",
        "        return 56\n",
        "    elif 0.934 <= R < 0.964:\n",
        "        return 57\n",
        "    elif 0.964 <= R < 0.980:\n",
        "        return 58\n",
        "    elif 0.980 <= R < 0.995:\n",
        "        return 59\n",
        "    elif 0.995 <= R < 1.000:\n",
        "        return 60\n",
        "\n",
        "# Generamos 100 valores aleatorios y calculamos sus demandas correspondientes\n",
        "R_values = [random.random() for _ in range(100)]\n",
        "demand_values = [demanda(R) for R in R_values]\n",
        "\n",
        "# Ordenamos los valores de R para una gráfica de función escalón\n",
        "sorted_indices = np.argsort(R_values)\n",
        "R_sorted = np.array(R_values)[sorted_indices]\n",
        "demand_sorted = np.array(demand_values)[sorted_indices]\n",
        "\n",
        "# Graficamos la función escalón\n",
        "plt.step(R_sorted, demand_sorted, where='post')\n",
        "plt.xlabel('R')\n",
        "plt.ylabel('Demanda')\n",
        "plt.title('Función Escalón de la Demanda')\n",
        "plt.grid(True)\n",
        "plt.show()"
      ],
      "metadata": {
        "id": "fRa-NeHjwEfa",
        "outputId": "c6b71b44-c418-4317-9efc-904056d7870e",
        "colab": {
          "base_uri": "https://localhost:8080/",
          "height": 256
        }
      },
      "execution_count": null,
      "outputs": [
        {
          "output_type": "display_data",
          "data": {
            "text/plain": [
              "<Figure size 640x480 with 1 Axes>"
            ],
            "image/png": "[encoded data removed]"
          },
          "metadata": {}
        }
      ]
    }
  ]
}