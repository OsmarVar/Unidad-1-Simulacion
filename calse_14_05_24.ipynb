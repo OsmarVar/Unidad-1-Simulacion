{
  "nbformat": 4,
  "nbformat_minor": 0,
  "metadata": {
    "colab": {
      "provenance": [],
      "authorship_tag": "ABX9TyNe5Ob5/QwchhUedYJ+ry8G",
      "include_colab_link": true
    },
    "kernelspec": {
      "name": "python3",
      "display_name": "Python 3"
    },
    "language_info": {
      "name": "python"
    }
  },
  "cells": [
    {
      "cell_type": "markdown",
      "metadata": {
        "id": "view-in-github",
        "colab_type": "text"
      },
      "source": [
        "<a href=\"https://colab.research.google.com/github/OsmarVar/Unidad-1-Simulacion/blob/main/calse_14_05_24.ipynb\" target=\"_parent\"><img src=\"https://colab.research.google.com/assets/colab-badge.svg\" alt=\"Open In Colab\"/></a>"
      ]
    },
    {
      "cell_type": "code",
      "execution_count": 21,
      "metadata": {
        "id": "12-7V56DdbHf"
      },
      "outputs": [],
      "source": [
        "import random\n",
        "import numpy as np"
      ]
    },
    {
      "cell_type": "code",
      "source": [
        "def generador_triangular(a,b,c):\n",
        "  while True:\n",
        "    x = random.uniform(a, c)\n",
        "    if x < b:\n",
        "      max_y = (x - a) / (b - a)\n",
        "    else:\n",
        "      max_y = (c - x) / (c - b)\n",
        "    y = random.uniform(0, max_y)\n",
        "    return x, y"
      ],
      "metadata": {
        "id": "2LWK7aCUh6QB"
      },
      "execution_count": 26,
      "outputs": []
    },
    {
      "cell_type": "code",
      "source": [
        "def area_del_triangulo(p1,p2,p3):\n",
        "  x1, y1 = p1\n",
        "  x2, y2 = p2\n",
        "  x3, y3 = p3\n",
        "  area = abs(x1*(y2 - y3) + x2 * (y3 - y1)+ x3 * (y1 - y2)) / 2\n",
        "  return area"
      ],
      "metadata": {
        "id": "0S2-APsIi2U6"
      },
      "execution_count": 28,
      "outputs": []
    },
    {
      "cell_type": "code",
      "source": [
        "a , b, c =  0 , 5 , 10"
      ],
      "metadata": {
        "id": "1qcRfLQGjYsC"
      },
      "execution_count": 34,
      "outputs": []
    },
    {
      "cell_type": "code",
      "source": [
        "n = 1"
      ],
      "metadata": {
        "id": "avLR9KE_jeQJ"
      },
      "execution_count": 35,
      "outputs": []
    },
    {
      "cell_type": "code",
      "source": [
        "total_area = 0"
      ],
      "metadata": {
        "id": "oR5zlneDjeZI"
      },
      "execution_count": 36,
      "outputs": []
    },
    {
      "cell_type": "code",
      "source": [
        "for i in range(n):\n",
        "  p1 = generador_triangular(a,b,c)\n",
        "  p2 = generador_triangular(a,b,c)\n",
        "  p3 = generador_triangular(a,b,c)\n",
        "  total_area += area_del_triangulo(p1,p2,p3)"
      ],
      "metadata": {
        "id": "f8g3GXQ1jnNJ"
      },
      "execution_count": 37,
      "outputs": []
    },
    {
      "cell_type": "code",
      "source": [
        "print(\"Area total calculada con triangulos aleatorios: \",total_area)"
      ],
      "metadata": {
        "colab": {
          "base_uri": "https://localhost:8080/"
        },
        "id": "BoMGkUWhkJT4",
        "outputId": "14cc9125-23f5-4f77-c067-f370de70f855"
      },
      "execution_count": 38,
      "outputs": [
        {
          "output_type": "stream",
          "name": "stdout",
          "text": [
            "Area total calculada con triangulos aleatorios:  1.1243286112092634\n"
          ]
        }
      ]
    }
  ]
}